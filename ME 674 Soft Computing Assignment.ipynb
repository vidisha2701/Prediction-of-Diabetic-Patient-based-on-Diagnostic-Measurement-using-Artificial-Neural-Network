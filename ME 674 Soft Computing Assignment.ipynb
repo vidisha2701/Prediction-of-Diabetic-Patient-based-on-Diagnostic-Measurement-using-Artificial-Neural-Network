{
 "cells": [
  {
   "cell_type": "code",
   "execution_count": 1,
   "id": "df298270",
   "metadata": {},
   "outputs": [],
   "source": [
    "import numpy as np\n",
    "import pandas as pd\n",
    "import matplotlib.pyplot as plt"
   ]
  },
  {
   "cell_type": "code",
   "execution_count": 2,
   "id": "afa8df65",
   "metadata": {},
   "outputs": [],
   "source": [
    "## Inputing the number of neurons in input and output layer\n",
    "def n_neurons():\n",
    "    n_x=int(input('No. Of Input neurons:'))\n",
    "    n_y=int(input('No. Of Output neurons:'))\n",
    "    return n_x,n_y"
   ]
  },
  {
   "cell_type": "code",
   "execution_count": 3,
   "id": "9386a1bc",
   "metadata": {},
   "outputs": [],
   "source": [
    "## Inputing number of patterns for training and testing\n",
    "def n_patterns():\n",
    "    n_train=int(input('No. Of Training patterns:'))\n",
    "    n_test=int(input('No. Of Testing patterns:'))\n",
    "    return n_train,n_test"
   ]
  },
  {
   "cell_type": "code",
   "execution_count": 4,
   "id": "6309dcd1",
   "metadata": {},
   "outputs": [],
   "source": [
    "#Defining Activation Function\n",
    "#Hidden Layer : Log Sigmoid Function\n",
    "#Output Layer :Linear Function"
   ]
  },
  {
   "cell_type": "code",
   "execution_count": 5,
   "id": "1d07a52e",
   "metadata": {},
   "outputs": [],
   "source": [
    "def sigmoid(a,U):\n",
    "    return 1/(1+np.exp(-a*U))"
   ]
  },
  {
   "cell_type": "markdown",
   "id": "ae8ed446",
   "metadata": {},
   "source": [
    "# Defining weights and bias matrix"
   ]
  },
  {
   "cell_type": "code",
   "execution_count": 6,
   "id": "5bead42f",
   "metadata": {},
   "outputs": [],
   "source": [
    "def weight_matrix(n_neurons):\n",
    "    n_inp=n_neurons[0]\n",
    "    n_hidden=n_neurons[1]\n",
    "    n_out=n_neurons[2]\n",
    "    V = np.random.randn(n_inp,n_hidden)\n",
    "    b1 = np.zeros((n_hidden,1))\n",
    "    W = np.random.randn(n_hidden,n_out)\n",
    "    b2 = np.zeros((n_out,1))\n",
    "    return V,b1,W,b2"
   ]
  },
  {
   "cell_type": "markdown",
   "id": "12f4d367",
   "metadata": {},
   "source": [
    "# Forward Propagation"
   ]
  },
  {
   "cell_type": "code",
   "execution_count": 7,
   "id": "6f73266e",
   "metadata": {},
   "outputs": [],
   "source": [
    "def forward_prop(a,inputs,params):\n",
    "    a1=a\n",
    "    \n",
    "    V=params['V']\n",
    "    b1=params['b1']\n",
    "    W=params['W']\n",
    "    b2=params['b2']       \n",
    "    \n",
    "    I1=np.dot(V.T,inputs)+b1.T\n",
    "    O1=sigmoid(a1,I1)[0]\n",
    "    \n",
    "    I2=np.dot(W.T,O1)+b2.T\n",
    "    O2=I2[0]\n",
    "    \n",
    "    return I1,O1,I2,O2"
   ]
  },
  {
   "cell_type": "markdown",
   "id": "ae43c895",
   "metadata": {},
   "source": [
    "# Back Propagation"
   ]
  },
  {
   "cell_type": "code",
   "execution_count": 8,
   "id": "b2586f68",
   "metadata": {},
   "outputs": [],
   "source": [
    "def back_prop(constant,inputs,forward,target,W,n_neurons):\n",
    "    inputs=inputs\n",
    "    a1=constant\n",
    "    I1=forward[0]\n",
    "    O1=forward[1]\n",
    "    I2=forward[2]\n",
    "    O2=forward[3]\n",
    "    T=target\n",
    "    W=W\n",
    "    n_i=n_neurons[0]\n",
    "    n_h=n_neurons[1]\n",
    "    n_o=n_neurons[2]\n",
    "    \n",
    "    x=[]\n",
    "    for k in range(n_o):\n",
    "        x.append(list((O2[k]-T[k])*O1))\n",
    "    del_W=np.array(x).T\n",
    "    \n",
    "    x=[]\n",
    "    for k in range(n_o):\n",
    "        x.append((O2[k]-T[k]))\n",
    "    del_b2=np.array(x).reshape(1,1)\n",
    "    \n",
    "    del_V=[]\n",
    "    for i in range(n_i):\n",
    "        y=[]\n",
    "        for j in range(n_h):\n",
    "            e_v=0\n",
    "            for k in range(n_o):\n",
    "                e_v+=(O2[k]-T[k])*W[j][k]*a1*O1[j]*(1-O1[j])*inputs[i]\n",
    "            y.extend([e_v/2])\n",
    "        del_V.append(y)\n",
    "    \n",
    "    x=[]\n",
    "    for j in range(n_h):\n",
    "        e_b1=0\n",
    "        for k in range(n_o):\n",
    "            e_b1+=(O2[k]-T[k])*a1*O1[j]*(1-O1[j])\n",
    "        x.append([e_b1/2])\n",
    "    del_b1=np.array(x)\n",
    "    \n",
    "    \n",
    "    return del_W,del_b2,np.array(del_V),del_b1\n"
   ]
  },
  {
   "cell_type": "markdown",
   "id": "e58447e5",
   "metadata": {},
   "source": [
    "# Normalization of Dataset"
   ]
  },
  {
   "cell_type": "code",
   "execution_count": 9,
   "id": "b0aec35d",
   "metadata": {},
   "outputs": [],
   "source": [
    "def normalize(x, o_min = 0.1, o_max = 0.9):\n",
    "    i_min = np.min(x)\n",
    "    i_max = np.max(x)\n",
    "    return (o_min + (np.multiply((o_max - o_min), np.divide((x - i_min), (i_max - i_min)))))"
   ]
  },
  {
   "cell_type": "markdown",
   "id": "c12d487a",
   "metadata": {},
   "source": [
    "# Training and Testing of Dataset"
   ]
  },
  {
   "cell_type": "code",
   "execution_count": 10,
   "id": "497b9838",
   "metadata": {},
   "outputs": [
    {
     "data": {
      "text/html": [
       "<div>\n",
       "<style scoped>\n",
       "    .dataframe tbody tr th:only-of-type {\n",
       "        vertical-align: middle;\n",
       "    }\n",
       "\n",
       "    .dataframe tbody tr th {\n",
       "        vertical-align: top;\n",
       "    }\n",
       "\n",
       "    .dataframe thead th {\n",
       "        text-align: right;\n",
       "    }\n",
       "</style>\n",
       "<table border=\"1\" class=\"dataframe\">\n",
       "  <thead>\n",
       "    <tr style=\"text-align: right;\">\n",
       "      <th></th>\n",
       "      <th>Pregnancies</th>\n",
       "      <th>Glucose</th>\n",
       "      <th>BloodPressure</th>\n",
       "      <th>SkinThickness</th>\n",
       "      <th>Insulin</th>\n",
       "      <th>BMI</th>\n",
       "      <th>DiabetesPedigreeFunction</th>\n",
       "      <th>Age</th>\n",
       "      <th>Outcome</th>\n",
       "    </tr>\n",
       "  </thead>\n",
       "  <tbody>\n",
       "    <tr>\n",
       "      <th>0</th>\n",
       "      <td>6</td>\n",
       "      <td>148</td>\n",
       "      <td>72</td>\n",
       "      <td>35</td>\n",
       "      <td>0</td>\n",
       "      <td>33.6</td>\n",
       "      <td>0.627</td>\n",
       "      <td>50</td>\n",
       "      <td>1</td>\n",
       "    </tr>\n",
       "    <tr>\n",
       "      <th>1</th>\n",
       "      <td>1</td>\n",
       "      <td>85</td>\n",
       "      <td>66</td>\n",
       "      <td>29</td>\n",
       "      <td>0</td>\n",
       "      <td>26.6</td>\n",
       "      <td>0.351</td>\n",
       "      <td>31</td>\n",
       "      <td>0</td>\n",
       "    </tr>\n",
       "    <tr>\n",
       "      <th>2</th>\n",
       "      <td>8</td>\n",
       "      <td>183</td>\n",
       "      <td>64</td>\n",
       "      <td>0</td>\n",
       "      <td>0</td>\n",
       "      <td>23.3</td>\n",
       "      <td>0.672</td>\n",
       "      <td>32</td>\n",
       "      <td>1</td>\n",
       "    </tr>\n",
       "    <tr>\n",
       "      <th>3</th>\n",
       "      <td>1</td>\n",
       "      <td>89</td>\n",
       "      <td>66</td>\n",
       "      <td>23</td>\n",
       "      <td>94</td>\n",
       "      <td>28.1</td>\n",
       "      <td>0.167</td>\n",
       "      <td>21</td>\n",
       "      <td>0</td>\n",
       "    </tr>\n",
       "    <tr>\n",
       "      <th>4</th>\n",
       "      <td>0</td>\n",
       "      <td>137</td>\n",
       "      <td>40</td>\n",
       "      <td>35</td>\n",
       "      <td>168</td>\n",
       "      <td>43.1</td>\n",
       "      <td>2.288</td>\n",
       "      <td>33</td>\n",
       "      <td>1</td>\n",
       "    </tr>\n",
       "  </tbody>\n",
       "</table>\n",
       "</div>"
      ],
      "text/plain": [
       "   Pregnancies  Glucose  BloodPressure  SkinThickness  Insulin   BMI  \\\n",
       "0            6      148             72             35        0  33.6   \n",
       "1            1       85             66             29        0  26.6   \n",
       "2            8      183             64              0        0  23.3   \n",
       "3            1       89             66             23       94  28.1   \n",
       "4            0      137             40             35      168  43.1   \n",
       "\n",
       "   DiabetesPedigreeFunction  Age  Outcome  \n",
       "0                     0.627   50        1  \n",
       "1                     0.351   31        0  \n",
       "2                     0.672   32        1  \n",
       "3                     0.167   21        0  \n",
       "4                     2.288   33        1  "
      ]
     },
     "execution_count": 10,
     "metadata": {},
     "output_type": "execute_result"
    }
   ],
   "source": [
    "df=pd.read_csv('diabetes.csv')\n",
    "df.head()"
   ]
  },
  {
   "cell_type": "code",
   "execution_count": 11,
   "id": "891c7543",
   "metadata": {},
   "outputs": [
    {
     "data": {
      "text/plain": [
       "(768, 9)"
      ]
     },
     "execution_count": 11,
     "metadata": {},
     "output_type": "execute_result"
    }
   ],
   "source": [
    "df.shape\n",
    "#total number of rows and columns"
   ]
  },
  {
   "cell_type": "code",
   "execution_count": 12,
   "id": "af9be7bc",
   "metadata": {},
   "outputs": [],
   "source": [
    "from sklearn.utils import shuffle\n",
    "shuffled_df = shuffle(df)"
   ]
  },
  {
   "cell_type": "code",
   "execution_count": 13,
   "id": "c5ff31bc",
   "metadata": {},
   "outputs": [
    {
     "name": "stdout",
     "output_type": "stream",
     "text": [
      "No. Of Training patterns:500\n",
      "No. Of Testing patterns:268\n",
      "Training Data Shape: (500, 9) Test Data Shape:  (268, 9)\n"
     ]
    }
   ],
   "source": [
    "train_size,test_size=n_patterns()\n",
    "train=shuffled_df.head(train_size)\n",
    "test=shuffled_df.tail(test_size)\n",
    "print('Training Data Shape:',train.shape,'Test Data Shape: ',test.shape)"
   ]
  },
  {
   "cell_type": "code",
   "execution_count": 14,
   "id": "994c5f70",
   "metadata": {},
   "outputs": [
    {
     "name": "stdout",
     "output_type": "stream",
     "text": [
      "(500, 8)\n",
      "(500, 1)\n",
      "(268, 8)\n",
      "(268, 8)\n"
     ]
    }
   ],
   "source": [
    "(X_train, y_train) = train.values[:, :-1], np.reshape(train.values[:, -1], (-1, 1))\n",
    "(X_test, y_test) = test.values[:, :-1], np.reshape(test.values[:, -1], (-1, 1))\n",
    "print(X_train.shape)\n",
    "print(y_train.shape)\n",
    "print(X_test.shape)\n",
    "print(X_test.shape)"
   ]
  },
  {
   "cell_type": "code",
   "execution_count": 15,
   "id": "91e25cc5",
   "metadata": {},
   "outputs": [],
   "source": [
    "train_y = normalize(y_train)\n",
    "test_y = normalize(y_test)\n",
    "train_X = np.zeros((500, 8))\n",
    "test_X = np.zeros((268, 8))\n",
    "for i in range(8):\n",
    "    train_X[:, i] = normalize(X_train[:, i])\n",
    "    test_X[:, i] = normalize(X_test[:, i])"
   ]
  },
  {
   "cell_type": "code",
   "execution_count": 16,
   "id": "4ed69d41",
   "metadata": {},
   "outputs": [
    {
     "name": "stdout",
     "output_type": "stream",
     "text": [
      "No. Of Input neurons:8\n",
      "No. Of Output neurons:1\n"
     ]
    }
   ],
   "source": [
    "n_inputs,n_outputs=n_neurons()"
   ]
  },
  {
   "cell_type": "markdown",
   "id": "57dbd6e0",
   "metadata": {},
   "source": [
    "# Error "
   ]
  },
  {
   "cell_type": "code",
   "execution_count": 17,
   "id": "f9e9cf58",
   "metadata": {},
   "outputs": [
    {
     "name": "stderr",
     "output_type": "stream",
     "text": [
      "C:\\Users\\91916\\AppData\\Local\\Temp\\ipykernel_14884\\1758355293.py:2: RuntimeWarning: overflow encountered in exp\n",
      "  return 1/(1+np.exp(-a*U))\n"
     ]
    },
    {
     "name": "stdout",
     "output_type": "stream",
     "text": [
      "0 iteration ===> mse_error : 8.679328055603225\n",
      "10 iteration ===> mse_error : 8.6512189293729\n",
      "20 iteration ===> mse_error : 8.651253025383769\n",
      "30 iteration ===> mse_error : 8.651413579925505\n",
      "40 iteration ===> mse_error : 8.651463594824\n",
      "50 iteration ===> mse_error : 8.65147677996778\n",
      "60 iteration ===> mse_error : 8.651480123130625\n",
      "70 iteration ===> mse_error : 8.651480946046489\n",
      "80 iteration ===> mse_error : 8.651481116347599\n",
      "90 iteration ===> mse_error : 8.651481079681016\n",
      "100 iteration ===> mse_error : 8.651480820667844\n",
      "110 iteration ===> mse_error : 8.651478029328507\n",
      "120 iteration ===> mse_error : 8.651888333071108\n",
      "130 iteration ===> mse_error : 8.65189035724597\n",
      "140 iteration ===> mse_error : 8.65189288569019\n",
      "150 iteration ===> mse_error : 8.651895771367851\n",
      "160 iteration ===> mse_error : 8.651899162755592\n",
      "170 iteration ===> mse_error : 8.651883926918378\n",
      "180 iteration ===> mse_error : 8.65188392691787\n",
      "190 iteration ===> mse_error : 8.651883926917362\n"
     ]
    },
    {
     "data": {
      "image/png": "[encoded data removed]",
      "text/plain": [
       "<Figure size 432x288 with 1 Axes>"
      ]
     },
     "metadata": {
      "needs_background": "light"
     },
     "output_type": "display_data"
    },
    {
     "name": "stdout",
     "output_type": "stream",
     "text": [
      "learning rate = 0.1 & no. of hidden neurons = 5 MSE : 8.651883926916911\n"
     ]
    }
   ],
   "source": [
    "n_hidden=5\n",
    "n_iteration=200\n",
    "n_neurons=[n_inputs,n_hidden,n_outputs]\n",
    "params=weight_matrix(n_neurons)\n",
    "err=[]\n",
    "for iteration in range(n_iteration):\n",
    "    error=0\n",
    "    for index, row in train.iterrows():\n",
    "        X=np.array(row.values[1:])\n",
    "        Y=np.array(row.values[:1])\n",
    "        net_params={'V':params[0],'b1':params[1],'W':params[2],'b2':params[3]}\n",
    "        forward=forward_prop(1,X,net_params)\n",
    "        error+=sum(((forward[3]-Y)/1)**2)\n",
    "        grads=back_prop(1,X,forward,Y,net_params['W'],n_neurons)\n",
    "        W=net_params['W']-0.1*grads[0]\n",
    "        b2=net_params['b2']-0.1*grads[1]\n",
    "        V=net_params['V']-0.1*grads[2]\n",
    "        b1=net_params['b1']-0.1*grads[3]\n",
    "        params=[V,b1,W,b2]\n",
    "    mse=(error/768)\n",
    "    err.append(mse)\n",
    "    if(iteration%10==0):\n",
    "        print('{} iteration ===> mse_error : {}'.format(iteration,mse,n_hidden))\n",
    "plt.figure()\n",
    "plt.xlabel('iteration',fontsize=15)\n",
    "plt.ylabel('Error(%)',fontsize=15)\n",
    "plt.plot(np.arange(200),err)\n",
    "plt.title('Error Function Graph')\n",
    "plt.show()\n",
    "print('learning rate = 0.1 & no. of hidden neurons = '+str(n_hidden) + ' MSE : '+ str(err[-1]));"
   ]
  },
  {
   "cell_type": "markdown",
   "id": "5103207f",
   "metadata": {},
   "source": [
    "# Optimizing number of hidden neurons"
   ]
  },
  {
   "cell_type": "code",
   "execution_count": 18,
   "id": "cedf499f",
   "metadata": {
    "scrolled": true
   },
   "outputs": [
    {
     "name": "stderr",
     "output_type": "stream",
     "text": [
      "C:\\Users\\91916\\AppData\\Local\\Temp\\ipykernel_14884\\1758355293.py:2: RuntimeWarning: overflow encountered in exp\n",
      "  return 1/(1+np.exp(-a*U))\n"
     ]
    },
    {
     "data": {
      "image/png": "[encoded data removed]",
      "text/plain": [
       "<Figure size 432x288 with 1 Axes>"
      ]
     },
     "metadata": {
      "needs_background": "light"
     },
     "output_type": "display_data"
    },
    {
     "name": "stdout",
     "output_type": "stream",
     "text": [
      "8.144529393618548\n"
     ]
    },
    {
     "data": {
      "image/png": "[encoded data removed]",
      "text/plain": [
       "<Figure size 432x288 with 1 Axes>"
      ]
     },
     "metadata": {
      "needs_background": "light"
     },
     "output_type": "display_data"
    },
    {
     "name": "stdout",
     "output_type": "stream",
     "text": [
      "9.905790345820357\n"
     ]
    },
    {
     "data": {
      "image/png": "[encoded data removed]",
      "text/plain": [
       "<Figure size 432x288 with 1 Axes>"
      ]
     },
     "metadata": {
      "needs_background": "light"
     },
     "output_type": "display_data"
    },
    {
     "name": "stdout",
     "output_type": "stream",
     "text": [
      "10.070611250812567\n"
     ]
    },
    {
     "data": {
      "image/png": "[encoded data removed]",
      "text/plain": [
       "<Figure size 432x288 with 1 Axes>"
      ]
     },
     "metadata": {
      "needs_background": "light"
     },
     "output_type": "display_data"
    },
    {
     "name": "stdout",
     "output_type": "stream",
     "text": [
      "26.217832056316293\n"
     ]
    }
   ],
   "source": [
    "hidden=[5,10,15,20]\n",
    "n_iteration=100\n",
    "\n",
    "for n_hidden in hidden:\n",
    "    n_neurons=[n_inputs,n_hidden,n_outputs]\n",
    "    params=weight_matrix(n_neurons)\n",
    "    err=[]\n",
    "    for iteration in range(n_iteration):\n",
    "        error=0\n",
    "        for index, row in train.iterrows():\n",
    "            X=np.array(row.values[1:])\n",
    "            Y=np.array(row.values[:1])\n",
    "            net_params={'V':params[0],'b1':params[1],'W':params[2],'b2':params[3]}\n",
    "            forward=forward_prop(1,X,net_params)\n",
    "            error+=sum(((forward[3]-Y)/1)**2)\n",
    "            grads=back_prop(1,X,forward,Y,net_params['W'],n_neurons)\n",
    "            W=net_params['W']-0.1*grads[0]\n",
    "            b2=net_params['b2']-0.1*grads[1]\n",
    "            V=net_params['V']-0.1*grads[2]\n",
    "            b1=net_params['b1']-0.1*grads[3]\n",
    "            params=[V,b1,W,b2]\n",
    "        mse=(error/768)\n",
    "        err.append(mse)\n",
    "        #print('{} iteration ===> mse_error : {} , {}'.format(iteration,mse,n_hidden))\n",
    "    plt.figure()\n",
    "    plt.xlabel('iteration',fontsize=15)\n",
    "    plt.ylabel('Error%',fontsize=15)\n",
    "    plt.plot(np.arange(100),err)\n",
    "    plt.title('learning rate = 0.1 & no. of hidden neurons = '+str(n_hidden));\n",
    "    plt.show()\n",
    "    print(err[-1])"
   ]
  },
  {
   "cell_type": "markdown",
   "id": "85d66759",
   "metadata": {},
   "source": [
    "## from above figures,the number of hidden neuron=5,gives the best minimum MSE with learning rate=0.1 and no of iteration =100"
   ]
  },
  {
   "cell_type": "markdown",
   "id": "2c6717fb",
   "metadata": {},
   "source": [
    "# Optimizing Learning Rate"
   ]
  },
  {
   "cell_type": "code",
   "execution_count": 19,
   "id": "9ee09c35",
   "metadata": {},
   "outputs": [
    {
     "name": "stderr",
     "output_type": "stream",
     "text": [
      "C:\\Users\\91916\\AppData\\Local\\Temp\\ipykernel_14884\\1758355293.py:2: RuntimeWarning: overflow encountered in exp\n",
      "  return 1/(1+np.exp(-a*U))\n"
     ]
    },
    {
     "data": {
      "image/png": "[encoded data removed]",
      "text/plain": [
       "<Figure size 432x288 with 1 Axes>"
      ]
     },
     "metadata": {
      "needs_background": "light"
     },
     "output_type": "display_data"
    },
    {
     "name": "stdout",
     "output_type": "stream",
     "text": [
      "7.2316031114827934\n"
     ]
    },
    {
     "data": {
      "image/png": "[encoded data removed]",
      "text/plain": [
       "<Figure size 432x288 with 1 Axes>"
      ]
     },
     "metadata": {
      "needs_background": "light"
     },
     "output_type": "display_data"
    },
    {
     "name": "stdout",
     "output_type": "stream",
     "text": [
      "7.265744938596408\n"
     ]
    },
    {
     "data": {
      "image/png": "[encoded data removed]",
      "text/plain": [
       "<Figure size 432x288 with 1 Axes>"
      ]
     },
     "metadata": {
      "needs_background": "light"
     },
     "output_type": "display_data"
    },
    {
     "name": "stdout",
     "output_type": "stream",
     "text": [
      "7.5778556790949\n"
     ]
    },
    {
     "data": {
      "image/png": "[encoded data removed]",
      "text/plain": [
       "<Figure size 432x288 with 1 Axes>"
      ]
     },
     "metadata": {
      "needs_background": "light"
     },
     "output_type": "display_data"
    },
    {
     "name": "stdout",
     "output_type": "stream",
     "text": [
      "7.698652014075814\n"
     ]
    }
   ],
   "source": [
    "etas=[0.001,0.003,0.01,0.03]\n",
    "n_iteration=100\n",
    "n_hidden=5\n",
    "\n",
    "for eta in etas:\n",
    "    n_neurons=[n_inputs,n_hidden,n_outputs]\n",
    "    params=weight_matrix(n_neurons)\n",
    "    err=[]\n",
    "    for epoch in range(n_iteration):\n",
    "        error=0\n",
    "        for index, row in train.iterrows():\n",
    "            X=np.array(row.values[1:])\n",
    "            Y=np.array(row.values[:1])\n",
    "            net_params={'V':params[0],'b1':params[1],'W':params[2],'b2':params[3]}\n",
    "            forward=forward_prop(1,X,net_params)\n",
    "            error+=sum(((forward[3]-Y)/1)**2)\n",
    "            grads=back_prop(1,X,forward,Y,net_params['W'],n_neurons)\n",
    "            W=net_params['W']-eta*grads[0]\n",
    "            b2=net_params['b2']-eta*grads[1]\n",
    "            V=net_params['V']-eta*grads[2]\n",
    "            b1=net_params['b1']-eta*grads[3]\n",
    "            params=[V,b1,W,b2]\n",
    "        mse=(error/768)\n",
    "        err.append(mse)\n",
    "        #print('{} iteration ===> mse_error : {} , {}'.format(iteration,tot_error,n_hidden))\n",
    "    plt.figure()\n",
    "    plt.xlabel('iteraion',fontsize=15)\n",
    "    plt.ylabel('Error(%)',fontsize=15)\n",
    "    plt.plot(np.arange(100),err)\n",
    "    plt.title('learning rate = '+str(eta)+' & no. of hidden neurons = 5');\n",
    "    plt.show()\n",
    "    print(err[-1])"
   ]
  },
  {
   "cell_type": "markdown",
   "id": "c6029da5",
   "metadata": {},
   "source": [
    "# from above figures,the learning rate=0.001,provides the best minimum  MSE with no of hidden neurons=5 and no of iteration=100"
   ]
  },
  {
   "cell_type": "markdown",
   "id": "ce007b27",
   "metadata": {},
   "source": [
    "# Defining Final Model"
   ]
  },
  {
   "cell_type": "code",
   "execution_count": 20,
   "id": "c7f6735a",
   "metadata": {},
   "outputs": [
    {
     "name": "stdout",
     "output_type": "stream",
     "text": [
      "iteration 0 =====> mse_error : 12.474987505240252\n",
      "iteration 1 =====> mse_error : 7.448658965706269\n",
      "iteration 2 =====> mse_error : 7.298823119880215\n",
      "iteration 3 =====> mse_error : 7.2286913602875975\n",
      "iteration 4 =====> mse_error : 7.1983422141808555\n",
      "iteration 5 =====> mse_error : 7.14500333183312\n",
      "iteration 6 =====> mse_error : 7.077551910342603\n",
      "iteration 7 =====> mse_error : 7.100274639920113\n",
      "iteration 8 =====> mse_error : 7.086133110040753\n",
      "iteration 9 =====> mse_error : 7.193760536864004\n",
      "iteration 10 =====> mse_error : 7.105314884784313\n",
      "iteration 11 =====> mse_error : 6.966750798548574\n",
      "iteration 12 =====> mse_error : 6.903843769492373\n",
      "iteration 13 =====> mse_error : 7.247538708520296\n",
      "iteration 14 =====> mse_error : 7.0719121953312865\n",
      "iteration 15 =====> mse_error : 7.060474842675326\n",
      "iteration 16 =====> mse_error : 7.084148746081897\n",
      "iteration 17 =====> mse_error : 7.047777981179913\n",
      "iteration 18 =====> mse_error : 7.0764347524733\n",
      "iteration 19 =====> mse_error : 6.965942265840105\n",
      "iteration 20 =====> mse_error : 7.125692792348276\n",
      "iteration 21 =====> mse_error : 6.987742027857954\n",
      "iteration 22 =====> mse_error : 6.908994720195136\n",
      "iteration 23 =====> mse_error : 7.13702419658878\n",
      "iteration 24 =====> mse_error : 6.670470931572853\n",
      "iteration 25 =====> mse_error : 6.867075477710767\n",
      "iteration 26 =====> mse_error : 6.871051922170914\n",
      "iteration 27 =====> mse_error : 6.729767216358112\n",
      "iteration 28 =====> mse_error : 6.61146745423157\n",
      "iteration 29 =====> mse_error : 6.59387345582741\n",
      "iteration 30 =====> mse_error : 6.514443465358116\n",
      "iteration 31 =====> mse_error : 6.7162296994016755\n",
      "iteration 32 =====> mse_error : 6.794725025173677\n",
      "iteration 33 =====> mse_error : 6.999487306331449\n",
      "iteration 34 =====> mse_error : 6.652478843987233\n",
      "iteration 35 =====> mse_error : 6.9422916048843595\n",
      "iteration 36 =====> mse_error : 6.551402990903519\n",
      "iteration 37 =====> mse_error : 6.789714481323133\n",
      "iteration 38 =====> mse_error : 6.795898487765432\n",
      "iteration 39 =====> mse_error : 6.698455726418989\n",
      "iteration 40 =====> mse_error : 6.492463142553011\n",
      "iteration 41 =====> mse_error : 6.356805190013026\n",
      "iteration 42 =====> mse_error : 6.728515762763714\n",
      "iteration 43 =====> mse_error : 7.206086760976773\n",
      "iteration 44 =====> mse_error : 6.653465328938214\n",
      "iteration 45 =====> mse_error : 6.6571256641693415\n",
      "iteration 46 =====> mse_error : 6.461148674923382\n",
      "iteration 47 =====> mse_error : 6.791279284370791\n",
      "iteration 48 =====> mse_error : 6.847959388401097\n",
      "iteration 49 =====> mse_error : 6.806644560802806\n",
      "iteration 50 =====> mse_error : 6.459225032983433\n",
      "iteration 51 =====> mse_error : 6.425133299039188\n",
      "iteration 52 =====> mse_error : 6.909106593483156\n",
      "iteration 53 =====> mse_error : 6.373148538912072\n",
      "iteration 54 =====> mse_error : 6.592765845425238\n",
      "iteration 55 =====> mse_error : 6.202751803525199\n",
      "iteration 56 =====> mse_error : 6.770079571724593\n",
      "iteration 57 =====> mse_error : 6.438900405243456\n",
      "iteration 58 =====> mse_error : 6.689220048418214\n",
      "iteration 59 =====> mse_error : 6.174161822426718\n",
      "iteration 60 =====> mse_error : 6.578954884685522\n",
      "iteration 61 =====> mse_error : 6.706167543860892\n",
      "iteration 62 =====> mse_error : 6.768352943431844\n",
      "iteration 63 =====> mse_error : 6.604325473456247\n",
      "iteration 64 =====> mse_error : 6.432761509919927\n",
      "iteration 65 =====> mse_error : 6.439057127750046\n",
      "iteration 66 =====> mse_error : 6.410175270220634\n",
      "iteration 67 =====> mse_error : 6.211995360089329\n",
      "iteration 68 =====> mse_error : 6.410509432612886\n",
      "iteration 69 =====> mse_error : 6.283175893691997\n",
      "iteration 70 =====> mse_error : 6.845650584590524\n",
      "iteration 71 =====> mse_error : 6.532320840849741\n",
      "iteration 72 =====> mse_error : 7.2525452375456405\n",
      "iteration 73 =====> mse_error : 6.789388492154335\n",
      "iteration 74 =====> mse_error : 6.452781081036776\n",
      "iteration 75 =====> mse_error : 7.567516323408622\n",
      "iteration 76 =====> mse_error : 7.426616878639276\n",
      "iteration 77 =====> mse_error : 7.399042549557833\n",
      "iteration 78 =====> mse_error : 7.379346564607456\n",
      "iteration 79 =====> mse_error : 7.363936543870175\n",
      "iteration 80 =====> mse_error : 7.351784359746062\n",
      "iteration 81 =====> mse_error : 7.34219316638234\n"
     ]
    },
    {
     "name": "stderr",
     "output_type": "stream",
     "text": [
      "C:\\Users\\91916\\AppData\\Local\\Temp\\ipykernel_14884\\1758355293.py:2: RuntimeWarning: overflow encountered in exp\n",
      "  return 1/(1+np.exp(-a*U))\n"
     ]
    },
    {
     "name": "stdout",
     "output_type": "stream",
     "text": [
      "iteration 82 =====> mse_error : 7.334626336704165\n",
      "iteration 83 =====> mse_error : 7.32865908226152\n",
      "iteration 84 =====> mse_error : 7.323954344741843\n",
      "iteration 85 =====> mse_error : 7.320245265398227\n",
      "iteration 86 =====> mse_error : 7.317320813136541\n",
      "iteration 87 =====> mse_error : 7.315014192513062\n",
      "iteration 88 =====> mse_error : 7.3131936887482345\n",
      "iteration 89 =====> mse_error : 7.311755433529043\n",
      "iteration 90 =====> mse_error : 7.3106176361549515\n",
      "iteration 91 =====> mse_error : 7.309715967952672\n",
      "iteration 92 =====> mse_error : 7.3089998822007765\n",
      "iteration 93 =====> mse_error : 7.30842969566135\n",
      "iteration 94 =====> mse_error : 7.307974283605151\n",
      "iteration 95 =====> mse_error : 7.3076092616534964\n",
      "iteration 96 =====> mse_error : 7.30731554389286\n",
      "iteration 97 =====> mse_error : 7.307078172781732\n",
      "iteration 98 =====> mse_error : 7.306885315125167\n",
      "iteration 99 =====> mse_error : 7.30672735499908\n"
     ]
    },
    {
     "data": {
      "image/png": "[encoded data removed]",
      "text/plain": [
       "<Figure size 432x288 with 1 Axes>"
      ]
     },
     "metadata": {
      "needs_background": "light"
     },
     "output_type": "display_data"
    },
    {
     "name": "stdout",
     "output_type": "stream",
     "text": [
      "MSE of the above model : 7.30672735499908\n"
     ]
    }
   ],
   "source": [
    "# defining the hyperparameters\n",
    "n_hidden=5\n",
    "n_iteration=100\n",
    "eta=0.001\n",
    "\n",
    "#creating model\n",
    "n_neurons=[n_inputs,n_hidden,n_outputs]\n",
    "params=weight_matrix(n_neurons)\n",
    "err=[]\n",
    "for iteration in range(n_iteration):\n",
    "    error=0\n",
    "    for index, row in train.iterrows():\n",
    "        X=np.array(row.values[1:])\n",
    "        Y=np.array(row.values[:1])\n",
    "        net_params={'V':params[0],'b1':params[1],'W':params[2],'b2':params[3]}\n",
    "        forward=forward_prop(1,X,net_params)\n",
    "        error+=sum(((forward[3]-Y)/1)**2)\n",
    "        grads=back_prop(1,X,forward,Y,net_params['W'],n_neurons)\n",
    "        W=net_params['W']-eta*grads[0]\n",
    "        b2=net_params['b2']-eta*grads[1]\n",
    "        V=net_params['V']-eta*grads[2]\n",
    "        b1=net_params['b1']-eta*grads[3]\n",
    "        params=[V,b1,W,b2]\n",
    "    mse=(error/768)\n",
    "    err.append(mse)\n",
    "    #if(iteration%20==0):\n",
    "    print('iteration {} =====> mse_error : {}'.format(iteration,mse))\n",
    "plt.figure()\n",
    "plt.xlabel('iteration',fontsize=15)\n",
    "plt.ylabel('Error(%)',fontsize=15)\n",
    "plt.plot(np.arange(100),err)\n",
    "plt.title('Error Graph with learning rate = 0.001 & Hidden neurons = 5')\n",
    "plt.show()\n",
    "print('MSE of the above model : '+ str(err[-1]));"
   ]
  },
  {
   "cell_type": "markdown",
   "id": "342160f3",
   "metadata": {},
   "source": [
    "# Best hyperparameters are\n",
    "# No of optimum hidden layer neuron=5\n",
    "# Learning Rate=0.001\n",
    "# "
   ]
  },
  {
   "cell_type": "code",
   "execution_count": 21,
   "id": "7a4e4d2f",
   "metadata": {},
   "outputs": [],
   "source": [
    "#writing results in .csv file"
   ]
  },
  {
   "cell_type": "code",
   "execution_count": 22,
   "id": "5c728dca",
   "metadata": {},
   "outputs": [
    {
     "data": {
      "text/html": [
       "<div>\n",
       "<style scoped>\n",
       "    .dataframe tbody tr th:only-of-type {\n",
       "        vertical-align: middle;\n",
       "    }\n",
       "\n",
       "    .dataframe tbody tr th {\n",
       "        vertical-align: top;\n",
       "    }\n",
       "\n",
       "    .dataframe thead th {\n",
       "        text-align: right;\n",
       "    }\n",
       "</style>\n",
       "<table border=\"1\" class=\"dataframe\">\n",
       "  <thead>\n",
       "    <tr style=\"text-align: right;\">\n",
       "      <th></th>\n",
       "      <th>MSE_error</th>\n",
       "    </tr>\n",
       "  </thead>\n",
       "  <tbody>\n",
       "    <tr>\n",
       "      <th>0</th>\n",
       "      <td>12.474988</td>\n",
       "    </tr>\n",
       "    <tr>\n",
       "      <th>1</th>\n",
       "      <td>7.448659</td>\n",
       "    </tr>\n",
       "    <tr>\n",
       "      <th>2</th>\n",
       "      <td>7.298823</td>\n",
       "    </tr>\n",
       "    <tr>\n",
       "      <th>3</th>\n",
       "      <td>7.228691</td>\n",
       "    </tr>\n",
       "    <tr>\n",
       "      <th>4</th>\n",
       "      <td>7.198342</td>\n",
       "    </tr>\n",
       "    <tr>\n",
       "      <th>...</th>\n",
       "      <td>...</td>\n",
       "    </tr>\n",
       "    <tr>\n",
       "      <th>95</th>\n",
       "      <td>7.307609</td>\n",
       "    </tr>\n",
       "    <tr>\n",
       "      <th>96</th>\n",
       "      <td>7.307316</td>\n",
       "    </tr>\n",
       "    <tr>\n",
       "      <th>97</th>\n",
       "      <td>7.307078</td>\n",
       "    </tr>\n",
       "    <tr>\n",
       "      <th>98</th>\n",
       "      <td>7.306885</td>\n",
       "    </tr>\n",
       "    <tr>\n",
       "      <th>99</th>\n",
       "      <td>7.306727</td>\n",
       "    </tr>\n",
       "  </tbody>\n",
       "</table>\n",
       "<p>100 rows × 1 columns</p>\n",
       "</div>"
      ],
      "text/plain": [
       "    MSE_error\n",
       "0   12.474988\n",
       "1    7.448659\n",
       "2    7.298823\n",
       "3    7.228691\n",
       "4    7.198342\n",
       "..        ...\n",
       "95   7.307609\n",
       "96   7.307316\n",
       "97   7.307078\n",
       "98   7.306885\n",
       "99   7.306727\n",
       "\n",
       "[100 rows x 1 columns]"
      ]
     },
     "execution_count": 22,
     "metadata": {},
     "output_type": "execute_result"
    }
   ],
   "source": [
    "#arr=np.random.rand(100,1)\n",
    "#print(\"MSE_error\")\n",
    "#print(arr)\n",
    "df2=pd.DataFrame(err,columns=['MSE_error(%)'])\n",
    "df2\n"
   ]
  },
  {
   "cell_type": "code",
   "execution_count": 23,
   "id": "d66b8c3f",
   "metadata": {},
   "outputs": [],
   "source": [
    "DF=pd.DataFrame(df2)\n",
    "DF.to_csv(\"MSE_error.csv\")"
   ]
  },
  {
   "cell_type": "markdown",
   "id": "1eb5e0b0",
   "metadata": {},
   "source": [
    "# Predicting the result"
   ]
  },
  {
   "cell_type": "code",
   "execution_count": 24,
   "id": "075bea8d",
   "metadata": {},
   "outputs": [
    {
     "name": "stderr",
     "output_type": "stream",
     "text": [
      "C:\\Users\\91916\\AppData\\Local\\Temp\\ipykernel_14884\\1758355293.py:2: RuntimeWarning: overflow encountered in exp\n",
      "  return 1/(1+np.exp(-a*U))\n"
     ]
    }
   ],
   "source": [
    "V=params[0]\n",
    "b1=params[1]\n",
    "W=params[2]\n",
    "b2=params[3]\n",
    "\n",
    "mse_error=np.zeros((1,))\n",
    "#We'll get 6 different MSE for 6 output variables\n",
    "for index, row in test.iterrows():\n",
    "    X=np.array(row.values[1:])\n",
    "    Y=np.array(row.values[:1])\n",
    "    net_params={'V':V,'b1':b1,'W':W,'b2':b2}\n",
    "    forward=forward_prop(1,X,net_params)\n",
    "    mse_error+=((Y-forward[3])**2)\n",
    "MSE_error= (mse_error/768)"
   ]
  },
  {
   "cell_type": "code",
   "execution_count": 25,
   "id": "673ee001",
   "metadata": {},
   "outputs": [
    {
     "name": "stdout",
     "output_type": "stream",
     "text": [
      "MSE error for target1 : 3.815\n"
     ]
    }
   ],
   "source": [
    " for i in range(1):\n",
    "    print('MSE error for target{} : {}'.format(i+1,np.round(MSE_error[i],3)))"
   ]
  },
  {
   "cell_type": "code",
   "execution_count": 26,
   "id": "1a8d57f3",
   "metadata": {},
   "outputs": [],
   "source": [
    "error={'Target':['target'],\n",
    "        'MSE':MSE_error}"
   ]
  },
  {
   "cell_type": "code",
   "execution_count": 27,
   "id": "f8574d10",
   "metadata": {},
   "outputs": [],
   "source": [
    "DF1=pd.DataFrame(error)"
   ]
  },
  {
   "cell_type": "code",
   "execution_count": 28,
   "id": "ddf06014",
   "metadata": {},
   "outputs": [],
   "source": [
    "#Writing result into output file"
   ]
  },
  {
   "cell_type": "code",
   "execution_count": 29,
   "id": "0f24a93e",
   "metadata": {},
   "outputs": [],
   "source": [
    "DF1.to_csv(\"Final_error.csv\")"
   ]
  },
  {
   "cell_type": "markdown",
   "id": "8ba351e2",
   "metadata": {},
   "source": [
    "# The End"
   ]
  }
 ],
 "metadata": {
  "kernelspec": {
   "display_name": "Python 3 (ipykernel)",
   "language": "python",
   "name": "python3"
  },
  "language_info": {
   "codemirror_mode": {
    "name": "ipython",
    "version": 3
   },
   "file_extension": ".py",
   "mimetype": "text/x-python",
   "name": "python",
   "nbconvert_exporter": "python",
   "pygments_lexer": "ipython3",
   "version": "3.10.5"
  }
 },
 "nbformat": 4,
 "nbformat_minor": 5
}
